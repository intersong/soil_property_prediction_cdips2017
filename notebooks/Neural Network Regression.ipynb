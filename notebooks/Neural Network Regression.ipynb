{
 "cells": [
  {
   "cell_type": "markdown",
   "metadata": {},
   "source": [
    "# Neural Network Regression"
   ]
  },
  {
   "cell_type": "code",
   "execution_count": null,
   "metadata": {
    "collapsed": true
   },
   "outputs": [],
   "source": [
    "import matplotlib.pyplot as plt\n",
    "import pandas as pd\n",
    "import sklearn as skl\n",
    "import numpy as np\n",
    "\n",
    "import seaborn as sns\n",
    "sns.set(font_scale=2)\n",
    "\n",
    "%matplotlib inline"
   ]
  },
  {
   "cell_type": "code",
   "execution_count": null,
   "metadata": {
    "collapsed": true
   },
   "outputs": [],
   "source": [
    "import sklearn.decomposition\n",
    "import sklearn.random_projection\n",
    "import sklearn.neural_network\n",
    "from sklearn.model_selection import train_test_split"
   ]
  },
  {
   "cell_type": "markdown",
   "metadata": {},
   "source": [
    "Neural networks are a powerful and flexible tool for solving problems\n",
    "ranging from\n",
    "[data science]()\n",
    "to\n",
    "[artificial intelligence]().\n",
    "\n",
    "The online book\n",
    "[Neural Networks and Deep Learning](http://neuralnetworksanddeeplearning.com/)\n",
    "is a great resource for folks\n",
    "with less background in mathematics and statistics,\n",
    "while the online book\n",
    "[Deep Learning](http://www.deeplearningbook.org/)\n",
    "is more authoritative and thorough\n",
    "for anyone comfortable with those fields.\n",
    "\n",
    "If you'd just like to see some neural networks in action\n",
    "on some visualizable datasets,\n",
    "check out Google's\n",
    "[Neural Network Playground](http://playground.tensorflow.org/)."
   ]
  },
  {
   "cell_type": "markdown",
   "metadata": {},
   "source": [
    "The idea behind neural networks is simple:\n",
    "we linearly transform our inputs,\n",
    "$\\mathbf{x}$,\n",
    "using a matrix, $W$,\n",
    "and then apply a nonlinear function $f$\n",
    "to get values we call the\n",
    "*activations*, $\\mathbf{a}$:\n",
    "\n",
    "$$\n",
    "\\mathbf{a} = f(W\\mathbf{x})\n",
    "$$\n",
    "\n",
    "These activations can then be passed through another combination\n",
    "of linear and nonlinear transformation,\n",
    "as can those resulting activations.\n",
    "\n",
    "At some point, we compare some final set of activations $\\hat{y}$\n",
    "to some target value $y$."
   ]
  },
  {
   "cell_type": "code",
   "execution_count": null,
   "metadata": {
    "collapsed": true
   },
   "outputs": [],
   "source": [
    "train = pd.read_csv('../data/training.csv')\n",
    "\n",
    "train.head()"
   ]
  },
  {
   "cell_type": "code",
   "execution_count": null,
   "metadata": {
    "collapsed": true
   },
   "outputs": [],
   "source": [
    "data_columns = [column for column in train.columns if column.startswith('m')]\n",
    "wavenumbers = [float(column.lstrip('m')) for column in data_columns]\n",
    "\n",
    "output_columns = [\"Ca\", \"P\", \"pH\", \"SOC\", \"Sand\"]\n",
    "\n",
    "X = train[data_columns].as_matrix()\n",
    "y = train[output_columns].as_matrix()"
   ]
  },
  {
   "cell_type": "code",
   "execution_count": null,
   "metadata": {
    "collapsed": true
   },
   "outputs": [],
   "source": [
    "MLP_model = sklearn.neural_network.MLPRegressor(hidden_layer_sizes=(100,),\n",
    "                                                max_iter=10000,tol=1e-16,\n",
    "                                                early_stopping=True,\n",
    "                                                batch_size=16)"
   ]
  },
  {
   "cell_type": "code",
   "execution_count": null,
   "metadata": {
    "collapsed": true
   },
   "outputs": [],
   "source": [
    "transformed_X = sklearn.decomposition.PCA(n_components=100,whiten=False).fit_transform(X)"
   ]
  },
  {
   "cell_type": "code",
   "execution_count": null,
   "metadata": {
    "collapsed": true
   },
   "outputs": [],
   "source": [
    "X_train, X_test, y_train, y_test = train_test_split(transformed_X, y,\n",
    "                                                    test_size=0.2,)"
   ]
  },
  {
   "cell_type": "code",
   "execution_count": null,
   "metadata": {
    "collapsed": true
   },
   "outputs": [],
   "source": [
    "MLP_model.fit(X_train,y_train);"
   ]
  },
  {
   "cell_type": "code",
   "execution_count": null,
   "metadata": {
    "collapsed": true
   },
   "outputs": [],
   "source": [
    "print(MLP_model.score(X_train,y_train))\n",
    "print(MLP_model.score(X_test,y_test))"
   ]
  },
  {
   "cell_type": "code",
   "execution_count": null,
   "metadata": {
    "collapsed": true
   },
   "outputs": [],
   "source": [
    "def MCWRMSE(y,y_hat):\n",
    "    return np.mean(np.sqrt(np.mean(np.square(y-y_hat),axis=0)))"
   ]
  },
  {
   "cell_type": "code",
   "execution_count": null,
   "metadata": {
    "collapsed": true
   },
   "outputs": [],
   "source": [
    "y_hat = MLP_model.predict(X_test)\n",
    "MCWRMSE(y_test,y_hat)"
   ]
  }
 ],
 "metadata": {
  "kernelspec": {
   "display_name": "Python 3",
   "language": "python",
   "name": "python3"
  },
  "language_info": {
   "codemirror_mode": {
    "name": "ipython",
    "version": 3
   },
   "file_extension": ".py",
   "mimetype": "text/x-python",
   "name": "python",
   "nbconvert_exporter": "python",
   "pygments_lexer": "ipython3",
   "version": "3.6.1"
  }
 },
 "nbformat": 4,
 "nbformat_minor": 2
}
