{
 "cells": [
  {
   "cell_type": "code",
   "execution_count": null,
   "metadata": {
    "collapsed": true
   },
   "outputs": [],
   "source": [
    "import seaborn as sns\n",
    "%matplotlib inline\n",
    "import folium\n",
    "import numpy as np\n",
    "import pandas as pd"
   ]
  },
  {
   "cell_type": "code",
   "execution_count": null,
   "metadata": {},
   "outputs": [],
   "source": [
    "#open a previously prepared file containing average long term rainfall data\n",
    "#the csv file was prepared from TRMM3B42ALT_199801_201505.tif\n",
    "#availbe from: ftp://africagrids.net/30000m/TRMM3B42/Average/\n",
    "df = pd.read_csv('../data/mapping_data/avg_rainfall.csv')\n",
    "df.head()"
   ]
  },
  {
   "cell_type": "code",
   "execution_count": null,
   "metadata": {
    "collapsed": true
   },
   "outputs": [],
   "source": [
    "import matplotlib.cm as cm\n",
    "import matplotlib\n",
    "from matplotlib.colors import LogNorm\n",
    "\n",
    "def convert_to_hex(rgba_color):\n",
    "    \"\"\"A hex converter\"\"\"\n",
    "    #note that currently this only uses rgb. \n",
    "    #the transparency informatoin in 'a' is discarded\n",
    "    red = int(rgba_color[0]*255)\n",
    "    green = int(rgba_color[1]*255)\n",
    "    blue = int(rgba_color[2]*255)\n",
    "    return '#{r:02x}{g:02x}{b:02x}'.format(r=red,g=green,b=blue)\n",
    "\n",
    "\n",
    "def color(x, scalemin=df['avg_rainfall'].min(), scalemax=df['avg_rainfall'].max(), log=True):\n",
    "    \"\"\"This function assigns a color based on the value of x\"\"\"\n",
    "    if log:\n",
    "        norm=LogNorm(vmin=scalemin, vmax=scalemax)\n",
    "    else:\n",
    "        norm =matplotlib.colors.Normalize(vmin=scalemin, vmax=scalemax)\n",
    "    #select a color map from matplotlib\n",
    "    cmap = cm.RdYlGn\n",
    "    #get a scalar map based on the normalization and color map we choose\n",
    "    m = cm.ScalarMappable(norm=norm, cmap=cmap)\n",
    "    #return the rbga color that the value of x corresponds to\n",
    "    #convert it to hex for plotting with folium\n",
    "    return convert_to_hex(m.to_rgba(x))\n",
    "    \n"
   ]
  },
  {
   "cell_type": "code",
   "execution_count": null,
   "metadata": {
    "scrolled": false
   },
   "outputs": [],
   "source": [
    "af = folium.Map(location=[-4, 21], zoom_start=3, tiles='cartodbpositron')\n",
    "\n",
    "#Foilium requires a list of [lat, long] points, not an array\n",
    "plist = []\n",
    "for lat, long in zip(df.lat.values,df.long.values):\n",
    "    plist.append([lat,long])\n",
    "\n",
    "#since there are so many points we need to downsample\n",
    "#otherwise we won't be able to plot\n",
    "downsample = 100\n",
    "for idx, p in enumerate(plist[::downsample]):\n",
    "    rain = df.avg_rainfall.values[idx*downsample]\n",
    "    col_idx = color(rain, log=False)\n",
    "    folium.CircleMarker(location=p,radius=2, popup=\"%0.1f inches\" %rain, fill_color=col_idx, color=col_idx).add_to(af)\n",
    "\n",
    "af"
   ]
  },
  {
   "cell_type": "code",
   "execution_count": null,
   "metadata": {},
   "outputs": [],
   "source": [
    "import geopandas as gpd\n",
    "\n",
    "#this shape file is downloaded from: \n",
    "#https://www.arcgis.com/home/item.html?id=16da193d9bcd4ae0b74febe39730658a\n",
    "shp = gpd.GeoDataFrame.from_file('../data/mapping_data/AfricanCountires.shp')\n",
    "\n",
    "#let's take a look at what is in the shape file\n",
    "shp.head()\n",
    "\n"
   ]
  },
  {
   "cell_type": "code",
   "execution_count": null,
   "metadata": {},
   "outputs": [],
   "source": [
    "print(shp.COUNTRY.unique())\n",
    "print('unique countries = ', len(shp.COUNTRY.unique()))\n",
    "print('Note that the UN recognizes 54 countries in Africa')\n",
    "\n",
    "#grab the polygons\n",
    "polys = shp.geometry.values\n"
   ]
  },
  {
   "cell_type": "code",
   "execution_count": null,
   "metadata": {},
   "outputs": [],
   "source": [
    "#This block assigns a country to each lat,long point\n",
    "#Note that it takes SEVERAL HOURS to run\n",
    "#set the following variable to true to actually run the code\n",
    "#else get it from a file\n",
    "HAVE_ALL_DAY = False\n",
    "\n",
    "\n",
    "from shapely.geometry import shape, Point\n",
    "\n",
    "def check(lon, lat, polygon):\n",
    "    # build a shapely point from your geopoint\n",
    "    point = Point(lon, lat)\n",
    "    # the contains function does exactly what you want\n",
    "    return polygon.contains(point)\n",
    "\n",
    "if HAVE_ALL_DAY:\n",
    "    contained_in = []\n",
    "    for lat, long in zip(df.lat.values, df.long.values):\n",
    "        gotit = False\n",
    "        for poly, country in zip(polys, shp.COUNTRY.values):\n",
    "            # build a shapely polygon from your shape\n",
    "            polygon = shape(poly)\n",
    "            if gotit:\n",
    "                break;\n",
    "            if check(long, lat, polygon):\n",
    "                contained_in.append(country)\n",
    "                gotit = True\n",
    "        if not gotit: #if never find it\n",
    "            contained_in.append('None')\n",
    "\n",
    "    #make a pandas series out of the list\n",
    "    ctry = pd.Series(contained_in)\n",
    "    #add it to the dataframe\n",
    "    df['Country'] = ctry.values\n",
    "\n",
    "else:\n",
    "    print('Go to next cell for previously prepared file')"
   ]
  },
  {
   "cell_type": "code",
   "execution_count": null,
   "metadata": {},
   "outputs": [],
   "source": [
    "df2 = pd.read_csv('../data/mapping_data/avg_rainfall_country.csv')\n",
    "df2.head()"
   ]
  },
  {
   "cell_type": "code",
   "execution_count": null,
   "metadata": {},
   "outputs": [],
   "source": [
    "tr = df2['Country'] == 'None'\n",
    "print(sum(tr), ' points were not assigned a country')"
   ]
  },
  {
   "cell_type": "code",
   "execution_count": null,
   "metadata": {},
   "outputs": [],
   "source": [
    "af = folium.Map(location=[-4, 21], zoom_start=3, tiles='cartodbpositron')\n",
    "\n",
    "#Foilium requires a list of [lat, long] points, not an array\n",
    "plist = []\n",
    "for lat, long in zip(df[tr].lat.values,df[tr].long.values):\n",
    "    plist.append([lat,long])\n",
    "\n",
    "#let's see where they are\n",
    "downsample = 5 #set to 1 for no down-sampling\n",
    "for idx, p in enumerate(plist[::downsample]):\n",
    "    rain = df.avg_rainfall.values[idx*downsample]\n",
    "    col_idx = color(rain, log=False)\n",
    "    folium.CircleMarker(location=p,radius=2, popup=\"%0.1f inches\" %rain, fill_color=col_idx, color=col_idx).add_to(af)\n",
    "\n",
    "#we can see that assigning a country to a latitude-longitude point is subject to the shape file's accuracy\n",
    "af"
   ]
  },
  {
   "cell_type": "code",
   "execution_count": null,
   "metadata": {},
   "outputs": [],
   "source": [
    "#get avg rainfall per country\n",
    "means = df2.groupby(['Country'])['avg_rainfall'].mean()\n",
    "#print(means.index)"
   ]
  },
  {
   "cell_type": "code",
   "execution_count": null,
   "metadata": {
    "collapsed": true
   },
   "outputs": [],
   "source": []
  }
 ],
 "metadata": {
  "kernelspec": {
   "display_name": "Python [conda env:cdips]",
   "language": "python",
   "name": "conda-env-cdips-py"
  },
  "language_info": {
   "codemirror_mode": {
    "name": "ipython",
    "version": 3
   },
   "file_extension": ".py",
   "mimetype": "text/x-python",
   "name": "python",
   "nbconvert_exporter": "python",
   "pygments_lexer": "ipython3",
   "version": "3.6.2"
  }
 },
 "nbformat": 4,
 "nbformat_minor": 2
}
