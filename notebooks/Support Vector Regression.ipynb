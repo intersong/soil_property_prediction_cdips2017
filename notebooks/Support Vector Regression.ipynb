{
 "cells": [
  {
   "cell_type": "markdown",
   "metadata": {},
   "source": [
    "# Support Vector Regression"
   ]
  },
  {
   "cell_type": "code",
   "execution_count": 1,
   "metadata": {
    "collapsed": true
   },
   "outputs": [],
   "source": [
    "import matplotlib.pyplot as plt\n",
    "import pandas as pd\n",
    "import sklearn as skl\n",
    "import numpy as np\n",
    "\n",
    "import seaborn as sns\n",
    "sns.set(font_scale=2)\n",
    "\n",
    "%matplotlib inline"
   ]
  },
  {
   "cell_type": "code",
   "execution_count": 2,
   "metadata": {
    "collapsed": true
   },
   "outputs": [],
   "source": [
    "import sklearn.decomposition\n",
    "import sklearn.svm\n",
    "from sklearn.model_selection import train_test_split"
   ]
  },
  {
   "cell_type": "markdown",
   "metadata": {},
   "source": [
    "### Support Vector Methods"
   ]
  },
  {
   "cell_type": "markdown",
   "metadata": {},
   "source": [
    "[Support Vector Machines](https://www.svm-tutorial.com/2014/11/svm-understanding-math-part-1/)\n",
    "are a powerful, widely-used technique for classifying data.\n",
    "[Support Vector Regression](https://alex.smola.org/papers/2003/SmoSch03b.pdf)\n",
    "is an extension of the more popular support vector machine classifier\n",
    "to regression problems."
   ]
  },
  {
   "cell_type": "markdown",
   "metadata": {},
   "source": [
    "The key tools used by support vector methods are *support vectors* and *kernels*."
   ]
  },
  {
   "cell_type": "markdown",
   "metadata": {},
   "source": [
    "#### Kernels\n",
    "\n",
    "The *kernel function* takes two data points and computes a measure of their similarity.\n",
    "For example, the dot product of two vectors is a linear kernel function.\n",
    "Another example of a kernel function is the\n",
    "*squared exponential* kernel,\n",
    "also known as the *Gaussian* kernel\n",
    "or the *radial basis function*.\n",
    "Mathematically, it looks like this:"
   ]
  },
  {
   "cell_type": "markdown",
   "metadata": {},
   "source": [
    "$$\n",
    "k(x,x') = \\exp\\left(-\\frac{(x-x')^2}{2l}\\right)\n",
    "$$"
   ]
  },
  {
   "cell_type": "markdown",
   "metadata": {},
   "source": [
    "Plotted out, the similarity to a Gaussian is clear:"
   ]
  },
  {
   "cell_type": "code",
   "execution_count": 6,
   "metadata": {},
   "outputs": [
    {
     "data": {
      "image/png": "[encoded data removed]",
      "text/plain": [
       "<matplotlib.figure.Figure at 0x1145048d0>"
      ]
     },
     "metadata": {},
     "output_type": "display_data"
    }
   ],
   "source": [
    "xs = np.linspace(-3,3,100)\n",
    "plt.plot(xs,np.exp(-1*np.square(xs)));"
   ]
  },
  {
   "cell_type": "markdown",
   "metadata": {},
   "source": [
    "#### Support Vectors"
   ]
  },
  {
   "cell_type": "markdown",
   "metadata": {},
   "source": [
    "The *support vectors* are a subset of the training set.\n",
    "\n",
    "To calculate the prediction of a support vector method for an input,\n",
    "we take the input and compute the result of the kernel function\n",
    "applied to the input and each of the support vectors.\n",
    "\n",
    "Let's call our test input\n",
    "$\\mathbf{x^*}$,\n",
    "our support vectors $\\mathbf{SV_i}$,\n",
    "and the outputs of the kernel function\n",
    "$z_i$.\n",
    "\n",
    "We calculate those outputs using this equation:"
   ]
  },
  {
   "cell_type": "markdown",
   "metadata": {},
   "source": [
    "$$\n",
    "    z_i = k(\\mathbf{SV_i},\\mathbf{x^*})\n",
    "$$"
   ]
  },
  {
   "cell_type": "markdown",
   "metadata": {},
   "source": [
    "We then treat this $\\mathbf{z}$ as the inputs to a\n",
    "[linear model](link to LM notebook).\n",
    "That is, we calculate the actual output of our support vector machine,\n",
    "$\\hat{y}$\n",
    "by taking a weighted sum of these $z$s and adding a bias term:"
   ]
  },
  {
   "cell_type": "markdown",
   "metadata": {},
   "source": [
    "$$\n",
    "\\begin{align}\n",
    "\\hat{y} &= \\sum_i w_i z_i + b \\\\\n",
    "        &= \\mathbf{w}^T\\mathbf{z} + b\n",
    "\\end{align}\n",
    "$$"
   ]
  },
  {
   "cell_type": "markdown",
   "metadata": {},
   "source": [
    "The choice of support vectors and weights is made, as always,\n",
    "by optimizing an objective function over the training data.\n",
    "The details of this optimization procedure are\n",
    "[extremely interesting](http://www.cs.columbia.edu/~kathy/cs4701/documents/jason_svm_tutorial.pdf)\n",
    "and use some very cool math,\n",
    "but they don't interest us here."
   ]
  },
  {
   "cell_type": "markdown",
   "metadata": {},
   "source": [
    "#### Support Vector Regression and Multiple Outputs"
   ]
  },
  {
   "cell_type": "markdown",
   "metadata": {},
   "source": [
    "However, due to the details of how optimization is performed in support vector regression,\n",
    "there is not a simple, trivial extension\n",
    "to the case where there are multiple outputs to predict --\n",
    "where $\\hat{y}$ is a vector, as in our data.\n",
    "\n",
    "The simplest way around this issue\n",
    "is to train multiple models,\n",
    "with each one predicting one dimension of our output:\n",
    "one model for calcium content,\n",
    "one model for pH,\n",
    "and so on.\n",
    "Then, when we want to predict all five outputs for a new data point,\n",
    "we combine the predictions of all five models into a single output\n",
    "by just concatenating them."
   ]
  },
  {
   "cell_type": "code",
   "execution_count": 3,
   "metadata": {
    "collapsed": true
   },
   "outputs": [],
   "source": [
    "def trainSVR(SVR_models,X_train,y_train):\n",
    "    for output_idx, SVR_model in enumerate(SVR_models):\n",
    "        SVR_model.fit(X_train,y_train[:,output_idx])\n",
    "\n",
    "def MCWRMSE(SVR_models,X_test,y_test):\n",
    "    \n",
    "    error = np.zeros(len(SVR_models))\n",
    "    \n",
    "    for output_idx,SVR_model in enumerate(SVR_models):\n",
    "        y = y_test[:,output_idx]\n",
    "        y_hat = SVR_model.predict(X_test)\n",
    "        error[output_idx] = np.sqrt(np.mean(np.square(y-y_hat)))\n",
    "    \n",
    "    return np.mean(error)"
   ]
  },
  {
   "cell_type": "code",
   "execution_count": 13,
   "metadata": {
    "collapsed": true
   },
   "outputs": [],
   "source": [
    "def makePlot(schedule,train_scores,test_scores):\n",
    "    \n",
    "    mean_train_scores = np.mean(train_scores,axis=0)\n",
    "    mean_test_scores = np.mean(test_scores,axis=0)\n",
    "\n",
    "    sd_train_scores = np.std(train_scores,axis=0,ddof=1)\n",
    "    sd_test_scores = np.std(test_scores,axis=0,ddof=1)\n",
    "    \n",
    "    plt.figure(figsize=(12,4))\n",
    "    ax = plt.subplot(111)\n",
    "    ax.set_xscale(\"log\", nonposx='clip')\n",
    "    \n",
    "    plt.errorbar(schedule,mean_train_scores,\n",
    "                 yerr=sd_train_scores,\n",
    "             linewidth=4,alpha=0.75,\n",
    "             label='Train')\n",
    "    \n",
    "    plt.errorbar(schedule,mean_test_scores,\n",
    "                 yerr=sd_test_scores,\n",
    "             linewidth=4,alpha=0.75,\n",
    "             label='Test')\n",
    "    \n",
    "    plt.ylim([0,1]);\n",
    "\n",
    "    plt.xlabel(\"Hyperparameter Value\");\n",
    "    plt.ylabel(\"MCWRMSE\")\n",
    "    plt.legend();\n",
    "    \n",
    "def getBest(test_scores,to_keep_schedule):\n",
    "    \n",
    "    mean_test_scores = np.mean(test_scores,axis=0)\n",
    "    \n",
    "    best_score_index = np.argmax(mean_test_scores)\n",
    "    best_score = mean_test_scores[best_score_index]\n",
    "    best_score_num_dimensions = to_keep_schedule[best_score_index]\n",
    "    print(\"the best value of the HP is: \"+ str(best_score_num_dimensions))"
   ]
  },
  {
   "cell_type": "code",
   "execution_count": 4,
   "metadata": {},
   "outputs": [
    {
     "data": {
      "text/html": [
       "<div>\n",
       "<style>\n",
       "    .dataframe thead tr:only-child th {\n",
       "        text-align: right;\n",
       "    }\n",
       "\n",
       "    .dataframe thead th {\n",
       "        text-align: left;\n",
       "    }\n",
       "\n",
       "    .dataframe tbody tr th {\n",
       "        vertical-align: top;\n",
       "    }\n",
       "</style>\n",
       "<table border=\"1\" class=\"dataframe\">\n",
       "  <thead>\n",
       "    <tr style=\"text-align: right;\">\n",
       "      <th></th>\n",
       "      <th>PIDN</th>\n",
       "      <th>m7497.96</th>\n",
       "      <th>m7496.04</th>\n",
       "      <th>m7494.11</th>\n",
       "      <th>m7492.18</th>\n",
       "      <th>m7490.25</th>\n",
       "      <th>m7488.32</th>\n",
       "      <th>m7486.39</th>\n",
       "      <th>m7484.46</th>\n",
       "      <th>m7482.54</th>\n",
       "      <th>...</th>\n",
       "      <th>REF7</th>\n",
       "      <th>RELI</th>\n",
       "      <th>TMAP</th>\n",
       "      <th>TMFI</th>\n",
       "      <th>Depth</th>\n",
       "      <th>Ca</th>\n",
       "      <th>P</th>\n",
       "      <th>pH</th>\n",
       "      <th>SOC</th>\n",
       "      <th>Sand</th>\n",
       "    </tr>\n",
       "  </thead>\n",
       "  <tbody>\n",
       "    <tr>\n",
       "      <th>0</th>\n",
       "      <td>XNhoFZW5</td>\n",
       "      <td>0.302553</td>\n",
       "      <td>0.301137</td>\n",
       "      <td>0.299748</td>\n",
       "      <td>0.300354</td>\n",
       "      <td>0.302679</td>\n",
       "      <td>0.303799</td>\n",
       "      <td>0.301702</td>\n",
       "      <td>0.298936</td>\n",
       "      <td>0.298126</td>\n",
       "      <td>...</td>\n",
       "      <td>-0.646673</td>\n",
       "      <td>1.687734</td>\n",
       "      <td>0.190708</td>\n",
       "      <td>0.056843</td>\n",
       "      <td>Topsoil</td>\n",
       "      <td>-0.295749</td>\n",
       "      <td>-0.041336</td>\n",
       "      <td>-1.129366</td>\n",
       "      <td>0.353258</td>\n",
       "      <td>1.269748</td>\n",
       "    </tr>\n",
       "    <tr>\n",
       "      <th>1</th>\n",
       "      <td>9XNspFTd</td>\n",
       "      <td>0.270192</td>\n",
       "      <td>0.268555</td>\n",
       "      <td>0.266964</td>\n",
       "      <td>0.267938</td>\n",
       "      <td>0.271013</td>\n",
       "      <td>0.272346</td>\n",
       "      <td>0.269870</td>\n",
       "      <td>0.266976</td>\n",
       "      <td>0.266544</td>\n",
       "      <td>...</td>\n",
       "      <td>-0.646673</td>\n",
       "      <td>1.687734</td>\n",
       "      <td>0.190708</td>\n",
       "      <td>0.056843</td>\n",
       "      <td>Subsoil</td>\n",
       "      <td>-0.387442</td>\n",
       "      <td>-0.231552</td>\n",
       "      <td>-1.531538</td>\n",
       "      <td>-0.264023</td>\n",
       "      <td>1.692209</td>\n",
       "    </tr>\n",
       "    <tr>\n",
       "      <th>2</th>\n",
       "      <td>WDId41qG</td>\n",
       "      <td>0.317433</td>\n",
       "      <td>0.316265</td>\n",
       "      <td>0.314948</td>\n",
       "      <td>0.315224</td>\n",
       "      <td>0.316942</td>\n",
       "      <td>0.317764</td>\n",
       "      <td>0.316067</td>\n",
       "      <td>0.313874</td>\n",
       "      <td>0.313301</td>\n",
       "      <td>...</td>\n",
       "      <td>-0.814516</td>\n",
       "      <td>1.806660</td>\n",
       "      <td>0.190708</td>\n",
       "      <td>0.056843</td>\n",
       "      <td>Topsoil</td>\n",
       "      <td>-0.248601</td>\n",
       "      <td>-0.224635</td>\n",
       "      <td>-0.259551</td>\n",
       "      <td>0.064152</td>\n",
       "      <td>2.091835</td>\n",
       "    </tr>\n",
       "    <tr>\n",
       "      <th>3</th>\n",
       "      <td>JrrJf1mN</td>\n",
       "      <td>0.261116</td>\n",
       "      <td>0.259767</td>\n",
       "      <td>0.258384</td>\n",
       "      <td>0.259001</td>\n",
       "      <td>0.261310</td>\n",
       "      <td>0.262417</td>\n",
       "      <td>0.260534</td>\n",
       "      <td>0.258039</td>\n",
       "      <td>0.257246</td>\n",
       "      <td>...</td>\n",
       "      <td>-0.814516</td>\n",
       "      <td>1.806660</td>\n",
       "      <td>0.190708</td>\n",
       "      <td>0.056843</td>\n",
       "      <td>Subsoil</td>\n",
       "      <td>-0.332195</td>\n",
       "      <td>-0.318014</td>\n",
       "      <td>-0.577548</td>\n",
       "      <td>-0.318719</td>\n",
       "      <td>2.118477</td>\n",
       "    </tr>\n",
       "    <tr>\n",
       "      <th>4</th>\n",
       "      <td>ZoIitegA</td>\n",
       "      <td>0.260038</td>\n",
       "      <td>0.258425</td>\n",
       "      <td>0.256544</td>\n",
       "      <td>0.257030</td>\n",
       "      <td>0.259602</td>\n",
       "      <td>0.260786</td>\n",
       "      <td>0.258717</td>\n",
       "      <td>0.256352</td>\n",
       "      <td>0.255902</td>\n",
       "      <td>...</td>\n",
       "      <td>-0.780242</td>\n",
       "      <td>0.430513</td>\n",
       "      <td>0.190708</td>\n",
       "      <td>0.056843</td>\n",
       "      <td>Topsoil</td>\n",
       "      <td>-0.438350</td>\n",
       "      <td>-0.010210</td>\n",
       "      <td>-0.699135</td>\n",
       "      <td>-0.310905</td>\n",
       "      <td>2.164148</td>\n",
       "    </tr>\n",
       "  </tbody>\n",
       "</table>\n",
       "<p>5 rows × 3600 columns</p>\n",
       "</div>"
      ],
      "text/plain": [
       "       PIDN  m7497.96  m7496.04  m7494.11  m7492.18  m7490.25  m7488.32  \\\n",
       "0  XNhoFZW5  0.302553  0.301137  0.299748  0.300354  0.302679  0.303799   \n",
       "1  9XNspFTd  0.270192  0.268555  0.266964  0.267938  0.271013  0.272346   \n",
       "2  WDId41qG  0.317433  0.316265  0.314948  0.315224  0.316942  0.317764   \n",
       "3  JrrJf1mN  0.261116  0.259767  0.258384  0.259001  0.261310  0.262417   \n",
       "4  ZoIitegA  0.260038  0.258425  0.256544  0.257030  0.259602  0.260786   \n",
       "\n",
       "   m7486.39  m7484.46  m7482.54    ...         REF7      RELI      TMAP  \\\n",
       "0  0.301702  0.298936  0.298126    ...    -0.646673  1.687734  0.190708   \n",
       "1  0.269870  0.266976  0.266544    ...    -0.646673  1.687734  0.190708   \n",
       "2  0.316067  0.313874  0.313301    ...    -0.814516  1.806660  0.190708   \n",
       "3  0.260534  0.258039  0.257246    ...    -0.814516  1.806660  0.190708   \n",
       "4  0.258717  0.256352  0.255902    ...    -0.780242  0.430513  0.190708   \n",
       "\n",
       "       TMFI    Depth        Ca         P        pH       SOC      Sand  \n",
       "0  0.056843  Topsoil -0.295749 -0.041336 -1.129366  0.353258  1.269748  \n",
       "1  0.056843  Subsoil -0.387442 -0.231552 -1.531538 -0.264023  1.692209  \n",
       "2  0.056843  Topsoil -0.248601 -0.224635 -0.259551  0.064152  2.091835  \n",
       "3  0.056843  Subsoil -0.332195 -0.318014 -0.577548 -0.318719  2.118477  \n",
       "4  0.056843  Topsoil -0.438350 -0.010210 -0.699135 -0.310905  2.164148  \n",
       "\n",
       "[5 rows x 3600 columns]"
      ]
     },
     "execution_count": 4,
     "metadata": {},
     "output_type": "execute_result"
    }
   ],
   "source": [
    "train = pd.read_csv('../data/training.csv')\n",
    "\n",
    "train.head()"
   ]
  },
  {
   "cell_type": "code",
   "execution_count": 5,
   "metadata": {
    "collapsed": true
   },
   "outputs": [],
   "source": [
    "data_columns = [column for column in train.columns if column.startswith('m')]\n",
    "wavenumbers = [float(column.lstrip('m')) for column in data_columns]\n",
    "\n",
    "output_columns = [\"Ca\",\"P\",\"pH\",\"SOC\",\"Sand\"]\n",
    "\n",
    "X = train[data_columns].as_matrix()\n",
    "y = train[output_columns].as_matrix()"
   ]
  },
  {
   "cell_type": "markdown",
   "metadata": {},
   "source": [
    "## Best Model"
   ]
  },
  {
   "cell_type": "markdown",
   "metadata": {},
   "source": [
    "As with most successful machine learning methods,\n",
    "support vector methods have\n",
    "hyperparameters that must be tuned with\n",
    "[cross-validation]().\n",
    "Because training an ensemble of five support vector regression models\n",
    "takes much longer than training any of our other models,\n",
    "we use a special from of cross-validation,\n",
    "called *greedy cross-validation*,\n",
    "as described in the section below.\n",
    "\n",
    "This process still takes a good amount of time\n",
    "\\- on the order of an hour on a laptop.\n",
    "If you'd just like to train up the best model\n",
    "so you can inspect it,\n",
    "simply run the cells below."
   ]
  },
  {
   "cell_type": "code",
   "execution_count": 20,
   "metadata": {
    "collapsed": true
   },
   "outputs": [],
   "source": [
    "C=100; epsilon=1e-4; gamma=1e-2 #selected, in that order, by greedy cross-validation"
   ]
  },
  {
   "cell_type": "code",
   "execution_count": 21,
   "metadata": {
    "collapsed": true
   },
   "outputs": [],
   "source": [
    "num_outputs = y.shape[1]\n",
    "\n",
    "SVR_models = [sklearn.svm.SVR(kernel='rbf',\n",
    "                            C=C, epsilon=epsilon, gamma=gamma) for _ in range(num_outputs)]"
   ]
  },
  {
   "cell_type": "code",
   "execution_count": 22,
   "metadata": {
    "collapsed": true
   },
   "outputs": [],
   "source": [
    "X_train, X_test, y_train, y_test = train_test_split(X, y,\n",
    "                                                    test_size=0.2,)"
   ]
  },
  {
   "cell_type": "code",
   "execution_count": 23,
   "metadata": {
    "collapsed": true
   },
   "outputs": [],
   "source": [
    "trainSVR(SVR_models,X_train,y_train)"
   ]
  },
  {
   "cell_type": "code",
   "execution_count": 24,
   "metadata": {},
   "outputs": [
    {
     "data": {
      "text/plain": [
       "0.43231048869770949"
      ]
     },
     "execution_count": 24,
     "metadata": {},
     "output_type": "execute_result"
    }
   ],
   "source": [
    "MCWRMSE(SVR_models,X_test,y_test)"
   ]
  },
  {
   "cell_type": "markdown",
   "metadata": {},
   "source": [
    "## Greedy Cross-Validation"
   ]
  },
  {
   "cell_type": "markdown",
   "metadata": {},
   "source": [
    "Because support vector methods take a long time to train, we chose to run *greedy* cross-validation. That is, we used cross-validation to optimize one hyperparameter, holding the others fixed, then fixed the value of that hyperparameter and moved on to the next one.\n",
    "\n",
    "There are three major hyperparameters:\n",
    "- `epsilon` - errors smaller than `epsilon` don't contribute to the cost function. Higher values discourage over-fitting, but may cause under-fitting.\n",
    "- `C` - determines how intensely to punish errors larger than `epsilon`. Higher values give more complex decision functions, at the cost of potential over-fitting.\n",
    "- `gamma` - inversely determines the width of the basis function. With smaller values, the data points selected as support vectors will influence predictions further and further away, resulting in smoother predictions that might under-fit."
   ]
  },
  {
   "cell_type": "markdown",
   "metadata": {},
   "source": [
    "The below cells check `C` across eight orders of magnitude.\n",
    "Note that the performance is measured as the\n",
    "[mean columnwise root mean squared error](),\n",
    "so lower values indicate better performance."
   ]
  },
  {
   "cell_type": "code",
   "execution_count": 22,
   "metadata": {
    "collapsed": true
   },
   "outputs": [],
   "source": [
    "C_schedule = np.logspace(-5,2,8)\n",
    "num_splits = 10\n",
    "\n",
    "train_scores = np.zeros((num_splits,len(C_schedule)))\n",
    "test_scores = np.zeros_like(train_scores)\n",
    "\n",
    "for C_idx,C in enumerate(C_schedule):\n",
    "    SVR_models = [sklearn.svm.SVR(C=C) for _ in range(num_outputs)]\n",
    "    for split_idx in range(num_splits):\n",
    "        X_train, X_test, y_train, y_test = train_test_split(X, y,\n",
    "                                                    test_size=0.2,)\n",
    "        trainSVR(SVR_models,X_train,y_train)\n",
    "        train_scores[split_idx,C_idx] = MCWRMSE(SVR_models,X_train,y_train)\n",
    "        test_scores[split_idx,C_idx] = MCWRMSE(SVR_models,X_test,y_test)"
   ]
  },
  {
   "cell_type": "code",
   "execution_count": 26,
   "metadata": {},
   "outputs": [
    {
     "data": {
      "image/png": "[encoded data removed]",
      "text/plain": [
       "<matplotlib.figure.Figure at 0x10cf1f4a8>"
      ]
     },
     "metadata": {},
     "output_type": "display_data"
    }
   ],
   "source": [
    "makePlot(C_schedule,train_scores,test_scores)"
   ]
  },
  {
   "cell_type": "markdown",
   "metadata": {},
   "source": [
    "Interestingly, the performance is still improving,\n",
    "even with `C` 100 times higher than the suggested default value!\n",
    "\n",
    "To determine if performance on the test set continues to improve,\n",
    "we check `C` across five more orders of magnitude."
   ]
  },
  {
   "cell_type": "code",
   "execution_count": 27,
   "metadata": {
    "collapsed": true
   },
   "outputs": [],
   "source": [
    "C_schedule = np.logspace(2,5,5)\n",
    "num_splits = 10\n",
    "\n",
    "train_scores = np.zeros((num_splits,len(C_schedule)))\n",
    "test_scores = np.zeros_like(train_scores)\n",
    "\n",
    "for C_idx,C in enumerate(C_schedule):\n",
    "    SVR_models = [sklearn.svm.SVR(C=C) for _ in range(num_outputs)]\n",
    "    for split_idx in range(num_splits):\n",
    "        X_train, X_test, y_train, y_test = train_test_split(X, y,\n",
    "                                                    test_size=0.2,)\n",
    "        trainSVR(SVR_models,X_train,y_train)\n",
    "        train_scores[split_idx,C_idx] = MCWRMSE(SVR_models,X_train,y_train)\n",
    "        test_scores[split_idx,C_idx] = MCWRMSE(SVR_models,X_test,y_test)"
   ]
  },
  {
   "cell_type": "code",
   "execution_count": 28,
   "metadata": {},
   "outputs": [
    {
     "data": {
      "image/png": "[encoded data removed]",
      "text/plain": [
       "<matplotlib.figure.Figure at 0x10cbd0c88>"
      ]
     },
     "metadata": {},
     "output_type": "display_data"
    }
   ],
   "source": [
    "makePlot(C_schedule,train_scores,test_scores)"
   ]
  },
  {
   "cell_type": "markdown",
   "metadata": {},
   "source": [
    "From the chart above,\n",
    "it appears that error on the test set appears to bottom out,\n",
    "even as the training error keeps going down.\n",
    "This is a classic sign of\n",
    "[overfitting](),\n",
    "and one of the primary concerns for modeling\n",
    "small datasets like ours is overfitting,\n",
    "so we select a relatively conservative value of `C`: 100."
   ]
  },
  {
   "cell_type": "markdown",
   "metadata": {},
   "source": [
    "The next cell tests `epsilon` across four orders of magnitude, with `C` set to the value determined above.\n",
    "The default value of `epsilon` caused very high training and test error,\n",
    "so we aimed for smaller values of `epsilon`."
   ]
  },
  {
   "cell_type": "code",
   "execution_count": 11,
   "metadata": {
    "collapsed": true
   },
   "outputs": [],
   "source": [
    "eps_schedule = np.logspace(-5,-2,4)\n",
    "num_splits = 10\n",
    "\n",
    "train_scores = np.zeros((num_splits,len(eps_schedule)))\n",
    "test_scores = np.zeros_like(train_scores)\n",
    "\n",
    "for eps_idx,eps in enumerate(eps_schedule):\n",
    "    SVR_models = [sklearn.svm.SVR(epsilon=eps,C=100) for _ in range(num_outputs)]\n",
    "    for split_idx in range(num_splits):\n",
    "        X_train, X_test, y_train, y_test = train_test_split(X, y,\n",
    "                                                    test_size=0.2,)\n",
    "        trainSVR(SVR_models,X_train,y_train)\n",
    "        train_scores[split_idx,eps_idx] = MCWRMSE(SVR_models,X_train,y_train)\n",
    "        test_scores[split_idx,eps_idx] = MCWRMSE(SVR_models,X_test,y_test)"
   ]
  },
  {
   "cell_type": "code",
   "execution_count": 14,
   "metadata": {},
   "outputs": [
    {
     "data": {
      "image/png": "[encoded data removed]",
      "text/plain": [
       "<matplotlib.figure.Figure at 0x11353b5c0>"
      ]
     },
     "metadata": {},
     "output_type": "display_data"
    }
   ],
   "source": [
    "makePlot(eps_schedule,train_scores,test_scores)"
   ]
  },
  {
   "cell_type": "markdown",
   "metadata": {},
   "source": [
    "Interestingly, varying `epsilon` appeared to have no effect.\n",
    "We selected a relatively low value of $10^{-4}$."
   ]
  },
  {
   "cell_type": "markdown",
   "metadata": {},
   "source": [
    "The last parameter to tune was `gamma`. The default value is 1/`n_features`, or roughly $10^{-3}$.\n",
    "Again, with over-fitting under control,\n",
    "our goal was to reduce under-fitting,\n",
    "so we explored values of `gamma` above the default value."
   ]
  },
  {
   "cell_type": "code",
   "execution_count": 41,
   "metadata": {
    "collapsed": true
   },
   "outputs": [],
   "source": [
    "gamma_schedule = np.logspace(-3,0,10)\n",
    "\n",
    "num_splits = 10\n",
    "\n",
    "train_scores = np.zeros((num_splits,len(gamma_schedule)))\n",
    "test_scores = np.zeros_like(train_scores)\n",
    "\n",
    "for gamma_idx,gamma in enumerate(gamma_schedule):\n",
    "    SVR_models = [sklearn.svm.SVR(epsilon=1e-4, C=100, gamma=gamma) for _ in range(num_outputs)]\n",
    "    for split_idx in range(num_splits):\n",
    "        X_train, X_test, y_train, y_test = train_test_split(X, y,\n",
    "                                                    test_size=0.2,)\n",
    "        trainSVR(SVR_models,X_train,y_train)\n",
    "        train_scores[split_idx,gamma_idx] = MCWRMSE(SVR_models,X_train,y_train)\n",
    "        test_scores[split_idx,gamma_idx] = MCWRMSE(SVR_models,X_test,y_test)"
   ]
  },
  {
   "cell_type": "code",
   "execution_count": 42,
   "metadata": {},
   "outputs": [
    {
     "data": {
      "image/png": "[encoded data removed]",
      "text/plain": [
       "<matplotlib.figure.Figure at 0x10cac4a90>"
      ]
     },
     "metadata": {},
     "output_type": "display_data"
    }
   ],
   "source": [
    "makePlot(gamma_schedule,train_scores,test_scores)"
   ]
  },
  {
   "cell_type": "markdown",
   "metadata": {},
   "source": [
    "The result was the cleanest cross-validation curve out of the hyperparameters examined:\n",
    "the transition from fitting to over-fitting is clearly visible at\n",
    "values above $10^{-2}$,\n",
    "and the transition towards under-fitting appears to be underway\n",
    "below that value."
   ]
  }
 ],
 "metadata": {
  "kernelspec": {
   "display_name": "Python 3",
   "language": "python",
   "name": "python3"
  },
  "language_info": {
   "codemirror_mode": {
    "name": "ipython",
    "version": 3
   },
   "file_extension": ".py",
   "mimetype": "text/x-python",
   "name": "python",
   "nbconvert_exporter": "python",
   "pygments_lexer": "ipython3",
   "version": "3.6.1"
  }
 },
 "nbformat": 4,
 "nbformat_minor": 2
}
