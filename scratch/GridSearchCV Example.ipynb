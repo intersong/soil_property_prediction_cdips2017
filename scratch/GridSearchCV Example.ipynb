{
 "cells": [
  {
   "cell_type": "code",
   "execution_count": null,
   "metadata": {
    "collapsed": true
   },
   "outputs": [],
   "source": [
    "import matplotlib.pyplot as plt\n",
    "import pandas as pd\n",
    "import sklearn as skl\n",
    "import numpy as np\n",
    "\n",
    "import seaborn as sns\n",
    "sns.set(font_scale=2)\n",
    "\n",
    "%matplotlib inline"
   ]
  },
  {
   "cell_type": "code",
   "execution_count": null,
   "metadata": {
    "collapsed": true
   },
   "outputs": [],
   "source": [
    "import sklearn.decomposition\n",
    "import sklearn.random_projection\n",
    "import sklearn.neural_network\n",
    "from sklearn.model_selection import train_test_split\n",
    "from sklearn.model_selection import GridSearchCV"
   ]
  },
  {
   "cell_type": "code",
   "execution_count": null,
   "metadata": {},
   "outputs": [],
   "source": [
    "train = pd.read_csv('../data/training.csv')\n",
    "\n",
    "train.head()"
   ]
  },
  {
   "cell_type": "code",
   "execution_count": null,
   "metadata": {
    "collapsed": true
   },
   "outputs": [],
   "source": [
    "data_columns = [column for column in train.columns if column.startswith('m')]\n",
    "wavenumbers = [float(column.lstrip('m')) for column in data_columns]\n",
    "\n",
    "output_columns = [\"Ca\",\"P\",\"pH\",\"SOC\",\"Sand\"]\n",
    "\n",
    "X = train[data_columns].as_matrix()\n",
    "y = train[output_columns].as_matrix()"
   ]
  },
  {
   "cell_type": "code",
   "execution_count": null,
   "metadata": {
    "collapsed": true
   },
   "outputs": [],
   "source": [
    "def MCWRMSE(model, X, y):\n",
    "    \"\"\"actually negative MCWRMSE so it can be used as a 'score',\n",
    "        which should increase when you're doing better\"\"\"\n",
    "    y_hat = model.predict(X)\n",
    "    return -np.mean(np.sqrt(np.mean(np.square(y-y_hat),axis=0)))"
   ]
  },
  {
   "cell_type": "code",
   "execution_count": null,
   "metadata": {
    "collapsed": true
   },
   "outputs": [],
   "source": [
    "param_grid = {'hidden_layer_sizes':[(100,10,5),\n",
    "                                    (100),\n",
    "                                    (10),\n",
    "                                    ],\n",
    "              'tol' : [1e-64,1e-16],\n",
    "              'early_stopping': [True,False],\n",
    "              'batch_size': [16,32,128],\n",
    "              'max_iter' : [10000],\n",
    "              'alpha' : [10e-5,10e-1],\n",
    "              'learning_rate_init' : [10e-5,10e-1],\n",
    "              'activation': ['relu','logistic'],\n",
    "              'beta_1': [0.9,0.95,0.99],\n",
    "              'beta_2': [0.9,0.99,0.999]\n",
    "             }"
   ]
  },
  {
   "cell_type": "code",
   "execution_count": null,
   "metadata": {},
   "outputs": [],
   "source": [
    "grid_size = np.prod([len(lst) for lst in param_grid.values()])\n",
    "print(grid_size)"
   ]
  },
  {
   "cell_type": "code",
   "execution_count": null,
   "metadata": {
    "collapsed": true
   },
   "outputs": [],
   "source": [
    "grid_searcher = GridSearchCV(estimator=sklearn.neural_network.MLPRegressor(),\n",
    "                             scoring=MCWRMSE,\n",
    "                            param_grid = param_grid\n",
    "                            )"
   ]
  },
  {
   "cell_type": "code",
   "execution_count": null,
   "metadata": {
    "collapsed": true
   },
   "outputs": [],
   "source": [
    "transformed_X = sklearn.decomposition.PCA(n_components=100,whiten=False).fit_transform(X)\n",
    "\n",
    "X_train, X_test, y_train, y_test = train_test_split(transformed_X, y,\n",
    "                                                    test_size=0.2,)"
   ]
  },
  {
   "cell_type": "code",
   "execution_count": null,
   "metadata": {
    "scrolled": false
   },
   "outputs": [],
   "source": [
    "grid_searcher.fit(X_train,y_train)"
   ]
  },
  {
   "cell_type": "code",
   "execution_count": null,
   "metadata": {},
   "outputs": [],
   "source": [
    "grid_searcher.best_score_"
   ]
  }
 ],
 "metadata": {
  "kernelspec": {
   "display_name": "Python 3",
   "language": "python",
   "name": "python3"
  },
  "language_info": {
   "codemirror_mode": {
    "name": "ipython",
    "version": 3
   },
   "file_extension": ".py",
   "mimetype": "text/x-python",
   "name": "python",
   "nbconvert_exporter": "python",
   "pygments_lexer": "ipython3",
   "version": "3.6.1"
  }
 },
 "nbformat": 4,
 "nbformat_minor": 2
}
