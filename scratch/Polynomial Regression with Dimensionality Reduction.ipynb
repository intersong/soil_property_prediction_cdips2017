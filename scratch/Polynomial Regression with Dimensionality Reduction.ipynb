{
 "cells": [
  {
   "cell_type": "code",
   "execution_count": null,
   "metadata": {
    "collapsed": true
   },
   "outputs": [],
   "source": [
    "import matplotlib.pyplot as plt\n",
    "import pandas as pd\n",
    "import sklearn as skl\n",
    "import numpy as np\n",
    "\n",
    "import seaborn as sns\n",
    "sns.set(font_scale=2)\n",
    "\n",
    "%matplotlib inline"
   ]
  },
  {
   "cell_type": "code",
   "execution_count": null,
   "metadata": {
    "collapsed": true
   },
   "outputs": [],
   "source": [
    "from sklearn.decomposition import PCA\n",
    "from sklearn.model_selection import train_test_split"
   ]
  },
  {
   "cell_type": "code",
   "execution_count": null,
   "metadata": {
    "collapsed": true
   },
   "outputs": [],
   "source": [
    "from sklearn.preprocessing import PolynomialFeatures\n",
    "from sklearn.linear_model import LinearRegression\n",
    "from sklearn.pipeline import Pipeline"
   ]
  },
  {
   "cell_type": "markdown",
   "metadata": {},
   "source": [
    "## Load and Format Data"
   ]
  },
  {
   "cell_type": "code",
   "execution_count": null,
   "metadata": {
    "collapsed": true
   },
   "outputs": [],
   "source": [
    "train = pd.read_csv('../data/training.csv')\n",
    "\n",
    "train.head()"
   ]
  },
  {
   "cell_type": "code",
   "execution_count": null,
   "metadata": {
    "collapsed": true
   },
   "outputs": [],
   "source": [
    "data_columns = [column for column in train.columns if column.startswith('m')]\n",
    "wavenumbers = [float(column.lstrip('m')) for column in data_columns]\n",
    "\n",
    "output_columns = [\"Ca\",\"P\",\"pH\",\"SOC\",\"Sand\"]\n",
    "\n",
    "X = train[data_columns].as_matrix()\n",
    "y = train[output_columns].as_matrix()"
   ]
  },
  {
   "cell_type": "markdown",
   "metadata": {},
   "source": [
    "## Cross-Validating Degree for a Fixed PCA Reduction"
   ]
  },
  {
   "cell_type": "markdown",
   "metadata": {},
   "source": [
    "#### Define Cross-Validation Across Degree, Fixed PCA Reduction"
   ]
  },
  {
   "cell_type": "code",
   "execution_count": null,
   "metadata": {
    "collapsed": true
   },
   "outputs": [],
   "source": [
    "def polynomialCV(degrees,numSplits,n_PCA_components):\n",
    "    \n",
    "    numDegrees = len(degrees)\n",
    "    \n",
    "    test_scores = np.zeros((numSplits,numDegrees))\n",
    "    train_scores = np.zeros_like(test_scores)\n",
    "\n",
    "    for degreeIdx,degree in enumerate(degrees):\n",
    "        for splitIdx in range(numSplits):\n",
    "            X_train, X_test, y_train, y_test = train_test_split(X, y,\n",
    "                                                        test_size=0.2,)\n",
    "            poly_model = Pipeline([ ('pca', PCA(n_components=n_PCA_components)),\n",
    "                           ('poly', PolynomialFeatures(degree=degree)),\n",
    "                           ('linear', LinearRegression(fit_intercept=False))])\n",
    "            poly_model = poly_model.fit(X_train,y_train)\n",
    "            train_scores[splitIdx,degreeIdx] = poly_model.score(X_train,y_train)\n",
    "            test_scores[splitIdx,degreeIdx] = poly_model.score(X_test,y_test)\n",
    "            \n",
    "    return train_scores,test_scores"
   ]
  },
  {
   "cell_type": "code",
   "execution_count": null,
   "metadata": {
    "collapsed": true
   },
   "outputs": [],
   "source": [
    "numSplits = 20\n",
    "degrees = [1,2,3,4,5]\n",
    "n_PCA_components = 10\n",
    "train_scores, test_scores = polynomialCV(degrees,numSplits,n_PCA_components=n_PCA_components)"
   ]
  },
  {
   "cell_type": "code",
   "execution_count": null,
   "metadata": {
    "collapsed": true
   },
   "outputs": [],
   "source": [
    "mean_train = np.mean(train_scores,axis=0)\n",
    "sd_train = np.std(train_scores,ddof=1,axis=0)\n",
    "\n",
    "mean_test = np.mean(test_scores,axis=0)\n",
    "sd_test = np.std(test_scores,ddof=1,axis=0)"
   ]
  },
  {
   "cell_type": "code",
   "execution_count": null,
   "metadata": {
    "collapsed": true
   },
   "outputs": [],
   "source": [
    "plt.figure(figsize=(12,6))\n",
    "plt.errorbar(degrees,mean_train,yerr=sd_train,\n",
    "             label=\"train\",linewidth=4,\n",
    "             color='hotpink',linestyle='--');\n",
    "plt.errorbar(degrees,mean_test,yerr=sd_test,\n",
    "             label=\"test\",linewidth=4,\n",
    "             color='hotpink');\n",
    "plt.ylim([0,1]); plt.legend(); plt.suptitle(\"Cross-Validating Polynomial Degree with \" +\n",
    "                                            str(n_PCA_components) +\n",
    "                                            \" PCs Retained\",\n",
    "                                           fontsize='xx-large',fontweight='bold');"
   ]
  },
  {
   "cell_type": "markdown",
   "metadata": {},
   "source": [
    "## Cross-Validating Quadratic Model Across PCA Reduction Levels"
   ]
  },
  {
   "cell_type": "markdown",
   "metadata": {},
   "source": [
    "### Define Cross-Validaiton Across PCA Reduction for Quadratic"
   ]
  },
  {
   "cell_type": "code",
   "execution_count": null,
   "metadata": {
    "collapsed": true
   },
   "outputs": [],
   "source": [
    "def quadraticCV(numSplits,PCA_schedule):\n",
    "    \n",
    "    len_schedule = len(PCA_schedule)\n",
    "    \n",
    "    test_scores = np.zeros((numSplits,2,len_schedule))\n",
    "    train_scores = np.zeros_like(test_scores)\n",
    "    \n",
    "    for PCA_idx,n_PCA_components in enumerate(PCA_schedule):\n",
    "        train_scores[:,:,PCA_idx], test_scores[:,:,PCA_idx] = polynomialCV([1,2],numSplits,n_PCA_components)\n",
    "        \n",
    "    return train_scores, test_scores"
   ]
  },
  {
   "cell_type": "code",
   "execution_count": null,
   "metadata": {
    "collapsed": true
   },
   "outputs": [],
   "source": [
    "numSplits = 20\n",
    "PCA_schedule = [2,5,10,20,50]\n",
    "\n",
    "train_scores, test_scores = quadraticCV(numSplits,PCA_schedule)"
   ]
  },
  {
   "cell_type": "code",
   "execution_count": null,
   "metadata": {
    "collapsed": true
   },
   "outputs": [],
   "source": [
    "mean_train = np.mean(train_scores,axis=0)\n",
    "sd_train = np.std(train_scores,ddof=1,axis=0)\n",
    "\n",
    "mean_test = np.mean(test_scores,axis=0)\n",
    "sd_test = np.std(test_scores,ddof=1,axis=0)"
   ]
  },
  {
   "cell_type": "code",
   "execution_count": null,
   "metadata": {
    "collapsed": true,
    "scrolled": false
   },
   "outputs": [],
   "source": [
    "plt.errorbar(PCA_schedule,mean_test[0,:],yerr=sd_test[0,:],\n",
    "         label=\"linear_test\",color='chartreuse',linewidth=4);\n",
    "\n",
    "plt.errorbar(PCA_schedule,mean_train[0,:],yerr=sd_train[0,:],\n",
    "         label=\"linear_train\",color='chartreuse',linewidth=4,\n",
    "             linestyle='--');\n",
    "\n",
    "plt.errorbar(PCA_schedule,mean_test[1,:], yerr=sd_test[1,:],\n",
    "         label=\"quadratic_test\",color='indigo',linewidth=4);\n",
    "plt.errorbar(PCA_schedule,mean_train[1,:], yerr=sd_train[1,:],\n",
    "         label=\"quadratic_train\",color='indigo',linewidth=4,linestyle='--');\n",
    "\n",
    "plt.ylim([0,1]); plt.legend();\n",
    "plt.xticks(PCA_schedule);"
   ]
  }
 ],
 "metadata": {
  "kernelspec": {
   "display_name": "Python 3",
   "language": "python",
   "name": "python3"
  },
  "language_info": {
   "codemirror_mode": {
    "name": "ipython",
    "version": 3
   },
   "file_extension": ".py",
   "mimetype": "text/x-python",
   "name": "python",
   "nbconvert_exporter": "python",
   "pygments_lexer": "ipython3",
   "version": "3.6.1"
  }
 },
 "nbformat": 4,
 "nbformat_minor": 2
}
