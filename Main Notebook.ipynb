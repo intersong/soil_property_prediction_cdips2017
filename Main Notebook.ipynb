{
 "cells": [
  {
   "cell_type": "markdown",
   "metadata": {},
   "source": [
    "![banner](img/cdips_2017_logo.png)"
   ]
  },
  {
   "cell_type": "markdown",
   "metadata": {},
   "source": [
    "## Introduction"
   ]
  },
  {
   "cell_type": "markdown",
   "metadata": {},
   "source": [
    "Text goes here."
   ]
  },
  {
   "cell_type": "markdown",
   "metadata": {},
   "source": [
    "Credit AFSIS, CDIPS, Kaggle."
   ]
  },
  {
   "cell_type": "markdown",
   "metadata": {},
   "source": [
    "## Tech Tools"
   ]
  },
  {
   "cell_type": "markdown",
   "metadata": {},
   "source": [
    "- pandas\n",
    "- scikit-learn\n",
    "- numpy\n",
    "- matplotlib + seaborn\n",
    "- JuPyter notebooks\n",
    "- binder"
   ]
  },
  {
   "cell_type": "code",
   "execution_count": null,
   "metadata": {},
   "outputs": [],
   "source": [
    "import numpy as np\n",
    "import pandas as pd\n",
    "import sklearn\n",
    "\n",
    "import matplotlib.pyplot as plt\n",
    "import seaborn as sns\n",
    "\n",
    "sns.set(font_scale=2)\n",
    "\n",
    "%run notebooks/scripts/load_data.py\n",
    "%run notebooks/scripts/comparison.py\n",
    "%matplotlib inline"
   ]
  },
  {
   "cell_type": "code",
   "execution_count": null,
   "metadata": {
    "collapsed": true
   },
   "outputs": [],
   "source": [
    "import sklearn.decomposition\n",
    "\n",
    "import sklearn.linear_model\n",
    "import sklearn.neural_network\n",
    "import sklearn.svm\n",
    "import sklearn.ensemble"
   ]
  },
  {
   "cell_type": "markdown",
   "metadata": {},
   "source": [
    "## Data Visualization"
   ]
  },
  {
   "cell_type": "code",
   "execution_count": null,
   "metadata": {},
   "outputs": [],
   "source": [
    "X, y = load_training_spectra('./data/training.csv')"
   ]
  },
  {
   "cell_type": "markdown",
   "metadata": {},
   "source": [
    "Add data visualizations here.\n",
    "See more visualizations of the data in\n",
    "[this notebook](link)."
   ]
  },
  {
   "cell_type": "markdown",
   "metadata": {},
   "source": [
    "## Data Pre-Processing"
   ]
  },
  {
   "cell_type": "markdown",
   "metadata": {},
   "source": [
    "Absorption was measured at over 3,000 wavelengths,\n",
    "resuling in very rich data vectors.\n",
    "This richness comes at a price.\n",
    "\n",
    "Though we have 3,000 dimensional inputs,\n",
    "we have only 1,000 data vectors.\n",
    "For some models, like\n",
    "[linear regression](link)\n",
    "this will lead to\n",
    "*over-fitting* -\n",
    "a model that predicts\n",
    "soil properties for previously-seen samples\n",
    "extremely well,\n",
    "but fails to predict soil properties accurately\n",
    "for samples it has never seen before.\n",
    "\n",
    "For other models, like\n",
    "[random forest regression](link),\n",
    "having many individually uninformative input dimensions\n",
    "reduces performance.\n",
    "\n",
    "And for all models, but especially\n",
    "[support vector methods](link)\n",
    "and\n",
    "[neural networks](link),\n",
    "more input dimensions\n",
    "means more time spent training."
   ]
  },
  {
   "cell_type": "markdown",
   "metadata": {},
   "source": [
    "We could resolve this by smoothing and down-sampling,\n",
    "but many of the spectra contain sharp,\n",
    "precisely-located peaks\n",
    "that we'd rather not smooth over.\n",
    "\n",
    "Instead, we use\n",
    "[Principal Components Analysis](link),\n",
    "or PCA,\n",
    "to reduce the size of our data vectors\n",
    "while trying to retain as much information as possible."
   ]
  },
  {
   "cell_type": "code",
   "execution_count": null,
   "metadata": {
    "collapsed": true
   },
   "outputs": [],
   "source": [
    "PCA_transform = sklearn.decomposition.PCA(n_components=100)"
   ]
  },
  {
   "cell_type": "markdown",
   "metadata": {},
   "source": [
    "## Models"
   ]
  },
  {
   "cell_type": "markdown",
   "metadata": {},
   "source": [
    "#### Linear Regression"
   ]
  },
  {
   "cell_type": "markdown",
   "metadata": {},
   "source": [
    "Text goes here."
   ]
  },
  {
   "cell_type": "code",
   "execution_count": null,
   "metadata": {
    "collapsed": true
   },
   "outputs": [],
   "source": [
    "linear_model = sklearn.linear_model.LinearRegression()"
   ]
  },
  {
   "cell_type": "markdown",
   "metadata": {},
   "source": [
    "#### Neural Network"
   ]
  },
  {
   "cell_type": "markdown",
   "metadata": {},
   "source": [
    "The resurgence of\n",
    "[neural networks](link)\n",
    "is one of the most exciting new developments\n",
    "in machine learning in the past decade,\n",
    "finding applications as diverse as\n",
    "[beating human beings at Go](https://www.blog.google/topics/machine-learning/what-we-learned-in-seoul-with-alphago/),\n",
    "[creating visual art](https://deepart.io/),\n",
    "and\n",
    "[operating autonomous vehicles](https://blogs.nvidia.com/blog/2016/05/06/self-driving-cars-3/).\n",
    "\n",
    "Neural networks perform best in situations\n",
    "with large datasets of very rich, structured data vectors\n",
    "composed of many individually-uninformative dimensions.\n",
    "However, we were still able to get decent performance\n",
    "on this smaller dataset by\n",
    "[carefully tuning hyperparameters](link)."
   ]
  },
  {
   "cell_type": "code",
   "execution_count": null,
   "metadata": {
    "collapsed": true
   },
   "outputs": [],
   "source": [
    "neural_network = sklearn.neural_network.MLPRegressor(activation = 'logistic',\n",
    "                                                     alpha = 0.0001,\n",
    "                                                     batch_size = 16,\n",
    "                                                     beta_1 = 0.95,\n",
    "                                                     beta_2= 0.99,\n",
    "                                                     early_stopping = False,\n",
    "                                                     hidden_layer_sizes = 100,\n",
    "                                                     learning_rate_init = 0.0001,\n",
    "                                                     max_iter = 10000,\n",
    "                                                     tol = 1e-16)"
   ]
  },
  {
   "cell_type": "markdown",
   "metadata": {},
   "source": [
    "#### Random Forest"
   ]
  },
  {
   "cell_type": "markdown",
   "metadata": {},
   "source": [
    "Text goes here."
   ]
  },
  {
   "cell_type": "code",
   "execution_count": null,
   "metadata": {
    "collapsed": true
   },
   "outputs": [],
   "source": [
    "random_forest = sklearn.ensemble.RandomForestRegressor()"
   ]
  },
  {
   "cell_type": "markdown",
   "metadata": {},
   "source": [
    "#### Support Vector Machine"
   ]
  },
  {
   "cell_type": "markdown",
   "metadata": {},
   "source": [
    "[Support Vector Machines](link)\n",
    "are a core component of the machine learning toolkit,\n",
    "but they are primarily used for\n",
    "classification tasks,\n",
    "where the output is a label,\n",
    "rather than regression tasks like this one,\n",
    "where the outputs are numbers.\n",
    "\n",
    "Additionally,\n",
    "unlike other models,\n",
    "support vector regression models\n",
    "can only predict a single output,\n",
    "rather than multiple outputs.\n",
    "This meant that we had to train one model\n",
    "for calcium content,\n",
    "one for pH,\n",
    "and so on.\n",
    "\n",
    "Despite this handicap,\n",
    "[by tuning hyperparameters](link)\n",
    "we were able to get good performance\n",
    "from our ensemble of support vector machines."
   ]
  },
  {
   "cell_type": "code",
   "execution_count": null,
   "metadata": {},
   "outputs": [],
   "source": [
    "num_outputs = y.shape[1]\n",
    "\n",
    "C = 100; epsilon=1e-1; gamma=1e-2;\n",
    "SVR_models = [sklearn.svm.SVR(kernel='rbf',\n",
    "                            C=C, epsilon=epsilon, gamma=gamma) for _ in range(num_outputs)]"
   ]
  },
  {
   "cell_type": "markdown",
   "metadata": {},
   "source": [
    "### Model Comparison"
   ]
  },
  {
   "cell_type": "markdown",
   "metadata": {},
   "source": [
    "We compare our models by running random-split\n",
    "[cross-validation](link).\n",
    "We get out two metrics:\n",
    "the *training score*,\n",
    "which tells us how well the model\n",
    "can predict the soil properties\n",
    "for spectra it has seen before,\n",
    "and\n",
    "the *test score*,\n",
    "which estimates how well the model\n",
    "will predict the soil properties\n",
    "for novel spectra."
   ]
  },
  {
   "cell_type": "code",
   "execution_count": null,
   "metadata": {
    "collapsed": true
   },
   "outputs": [],
   "source": [
    "models = [linear_model, neural_network, random_forest, SVR_models]\n",
    "model_names = ['Linear Model', 'Neural Network', 'Random Forest', 'Support Vector Machine']\n",
    "\n",
    "num_splits = 20"
   ]
  },
  {
   "cell_type": "code",
   "execution_count": null,
   "metadata": {},
   "outputs": [],
   "source": [
    "train_scores, test_scores = compare_models(\n",
    "                            models, model_names, PCA_transform,\n",
    "                                X, y, num_splits=num_splits)"
   ]
  },
  {
   "cell_type": "code",
   "execution_count": null,
   "metadata": {},
   "outputs": [],
   "source": [
    "comparison_plot(model_names, train_scores, test_scores)"
   ]
  },
  {
   "cell_type": "markdown",
   "metadata": {},
   "source": [
    "Error bars are ± standard error of the mean."
   ]
  },
  {
   "cell_type": "markdown",
   "metadata": {},
   "source": [
    "## Conclusions"
   ]
  },
  {
   "cell_type": "markdown",
   "metadata": {},
   "source": [
    "Text goes here."
   ]
  }
 ],
 "metadata": {
  "kernelspec": {
   "display_name": "Python 3",
   "language": "python",
   "name": "python3"
  },
  "language_info": {
   "codemirror_mode": {
    "name": "ipython",
    "version": 3
   },
   "file_extension": ".py",
   "mimetype": "text/x-python",
   "name": "python",
   "nbconvert_exporter": "python",
   "pygments_lexer": "ipython3",
   "version": "3.6.1"
  }
 },
 "nbformat": 4,
 "nbformat_minor": 2
}
